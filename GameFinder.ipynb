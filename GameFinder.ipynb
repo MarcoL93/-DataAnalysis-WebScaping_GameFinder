{
 "cells": [
  {
   "cell_type": "code",
   "execution_count": 1,
   "id": "colonial-identification",
   "metadata": {},
   "outputs": [],
   "source": [
    "import pandas as pd\n",
    "from pandas import DataFrame\n",
    "pd.set_option('display.max_colwidth', 400)"
   ]
  },
  {
   "cell_type": "code",
   "execution_count": 2,
   "id": "unavailable-favor",
   "metadata": {},
   "outputs": [],
   "source": [
    "#Let's import the csv file"
   ]
  },
  {
   "cell_type": "code",
   "execution_count": 3,
   "id": "challenging-sequence",
   "metadata": {},
   "outputs": [],
   "source": [
    "df = pd.read_csv('Metacritic_PC_AllTime.csv')"
   ]
  },
  {
   "cell_type": "code",
   "execution_count": 4,
   "id": "breathing-yorkshire",
   "metadata": {},
   "outputs": [],
   "source": [
    "#A dataframe with all the types of Games' genres\n",
    "genres = df['Genre'].unique().tolist()\n",
    "genres = DataFrame (genres, columns=['Genre'])"
   ]
  },
  {
   "cell_type": "code",
   "execution_count": 5,
   "id": "resident-vermont",
   "metadata": {},
   "outputs": [],
   "source": [
    "#A sample of Games' Genres. Hopefully it will help the users knowing what different genres they can look for."
   ]
  },
  {
   "cell_type": "code",
   "execution_count": 6,
   "id": "built-dominican",
   "metadata": {},
   "outputs": [
    {
     "data": {
      "text/html": [
       "<div>\n",
       "<style scoped>\n",
       "    .dataframe tbody tr th:only-of-type {\n",
       "        vertical-align: middle;\n",
       "    }\n",
       "\n",
       "    .dataframe tbody tr th {\n",
       "        vertical-align: top;\n",
       "    }\n",
       "\n",
       "    .dataframe thead th {\n",
       "        text-align: right;\n",
       "    }\n",
       "</style>\n",
       "<table border=\"1\" class=\"dataframe\">\n",
       "  <thead>\n",
       "    <tr style=\"text-align: right;\">\n",
       "      <th></th>\n",
       "      <th>Genre</th>\n",
       "    </tr>\n",
       "  </thead>\n",
       "  <tbody>\n",
       "    <tr>\n",
       "      <th>58</th>\n",
       "      <td>Action Adventure,  Fantasy,  Fantasy,  Linear</td>\n",
       "    </tr>\n",
       "    <tr>\n",
       "      <th>565</th>\n",
       "      <td>Console-style RPG,  Console-style RPG,  Role-Playing,  Japanese-Style</td>\n",
       "    </tr>\n",
       "    <tr>\n",
       "      <th>900</th>\n",
       "      <td>Strategy,  Real-Time,  Management,  Historic,  Business / Tycoon</td>\n",
       "    </tr>\n",
       "    <tr>\n",
       "      <th>273</th>\n",
       "      <td>Strategy,  Turn-Based,  Fantasy,  General,  Fantasy,  Tactics</td>\n",
       "    </tr>\n",
       "    <tr>\n",
       "      <th>20</th>\n",
       "      <td>Strategy,  Real-Time,  Historic,  Historic,  Command</td>\n",
       "    </tr>\n",
       "    <tr>\n",
       "      <th>573</th>\n",
       "      <td>General,  Action,  Simulation,  General,  Marine,  Combat</td>\n",
       "    </tr>\n",
       "    <tr>\n",
       "      <th>137</th>\n",
       "      <td>Role-Playing,  Western-Style</td>\n",
       "    </tr>\n",
       "    <tr>\n",
       "      <th>196</th>\n",
       "      <td>Adventure,  General,  3D,  Point-and-Click,  Third-Person</td>\n",
       "    </tr>\n",
       "    <tr>\n",
       "      <th>109</th>\n",
       "      <td>Racing,  Simulation,  Automobile</td>\n",
       "    </tr>\n",
       "    <tr>\n",
       "      <th>1077</th>\n",
       "      <td>Action Adventure,  Adventure,  3D,  Survival,  Third-Person,  Modern</td>\n",
       "    </tr>\n",
       "    <tr>\n",
       "      <th>218</th>\n",
       "      <td>Action,  General,  Shooter,  Shoot-'Em-Up,  Top-Down</td>\n",
       "    </tr>\n",
       "    <tr>\n",
       "      <th>270</th>\n",
       "      <td>Action,  Shooter,  Shooter,  First-Person,  Sci-Fi,  Sci-Fi,  Tactical,  Arcade</td>\n",
       "    </tr>\n",
       "    <tr>\n",
       "      <th>492</th>\n",
       "      <td>Action,  General,  Fighting,  3D</td>\n",
       "    </tr>\n",
       "    <tr>\n",
       "      <th>872</th>\n",
       "      <td>Miscellaneous,  Adventure,  General,  Puzzle</td>\n",
       "    </tr>\n",
       "    <tr>\n",
       "      <th>795</th>\n",
       "      <td>Sci-Fi,  Action Adventure,  Open-World</td>\n",
       "    </tr>\n",
       "  </tbody>\n",
       "</table>\n",
       "</div>"
      ],
      "text/plain": [
       "                                                                                Genre\n",
       "58                                      Action Adventure,  Fantasy,  Fantasy,  Linear\n",
       "565             Console-style RPG,  Console-style RPG,  Role-Playing,  Japanese-Style\n",
       "900                  Strategy,  Real-Time,  Management,  Historic,  Business / Tycoon\n",
       "273                     Strategy,  Turn-Based,  Fantasy,  General,  Fantasy,  Tactics\n",
       "20                               Strategy,  Real-Time,  Historic,  Historic,  Command\n",
       "573                         General,  Action,  Simulation,  General,  Marine,  Combat\n",
       "137                                                      Role-Playing,  Western-Style\n",
       "196                         Adventure,  General,  3D,  Point-and-Click,  Third-Person\n",
       "109                                                  Racing,  Simulation,  Automobile\n",
       "1077             Action Adventure,  Adventure,  3D,  Survival,  Third-Person,  Modern\n",
       "218                              Action,  General,  Shooter,  Shoot-'Em-Up,  Top-Down\n",
       "270   Action,  Shooter,  Shooter,  First-Person,  Sci-Fi,  Sci-Fi,  Tactical,  Arcade\n",
       "492                                                  Action,  General,  Fighting,  3D\n",
       "872                                      Miscellaneous,  Adventure,  General,  Puzzle\n",
       "795                                            Sci-Fi,  Action Adventure,  Open-World"
      ]
     },
     "execution_count": 6,
     "metadata": {},
     "output_type": "execute_result"
    }
   ],
   "source": [
    "genres.sample(15)"
   ]
  },
  {
   "cell_type": "code",
   "execution_count": 7,
   "id": "conditional-issue",
   "metadata": {},
   "outputs": [
    {
     "name": "stdin",
     "output_type": "stream",
     "text": [
      "What kind of genre are you interested in? [Warning: input case sensitive]  Strategy\n"
     ]
    }
   ],
   "source": [
    "genre = input('What kind of genre are you interested in? [Warning: input case sensitive] ')"
   ]
  },
  {
   "cell_type": "code",
   "execution_count": 8,
   "id": "average-missouri",
   "metadata": {},
   "outputs": [],
   "source": [
    "filter = df['Genre'].str.contains(genre)\n",
    "df = df[filter]"
   ]
  },
  {
   "cell_type": "code",
   "execution_count": 9,
   "id": "traditional-centre",
   "metadata": {},
   "outputs": [],
   "source": [
    "#We are going to split the dataframe in two: one for singleplayer titles and one for multiplayer ones"
   ]
  },
  {
   "cell_type": "code",
   "execution_count": 10,
   "id": "dying-chancellor",
   "metadata": {},
   "outputs": [],
   "source": [
    "df_single = df.loc[df['Game Mode'] == 'Singleplayer']\n",
    "df_multi = df.loc[df['Game Mode'] == 'Multiplayer']"
   ]
  },
  {
   "cell_type": "code",
   "execution_count": 11,
   "id": "younger-brake",
   "metadata": {},
   "outputs": [],
   "source": [
    "#Finally we are going to save the results in an excel file. The file name is the same as the genre been chosen and with two different sheets: one for singleplayer titles and one for multiplayer games."
   ]
  },
  {
   "cell_type": "code",
   "execution_count": 12,
   "id": "expected-quilt",
   "metadata": {},
   "outputs": [],
   "source": [
    "with pd.ExcelWriter(f'{genre}.xlsx') as file:\n",
    "    df_single.to_excel(file, sheet_name='Singleplayer', index=False) #Sheet for Singleplayer games\n",
    "    df_multi.to_excel(file, sheet_name='Multiplayer', index=False) #Sheet for Multiplayer games"
   ]
  }
 ],
 "metadata": {
  "kernelspec": {
   "display_name": "Python 3",
   "language": "python",
   "name": "python3"
  },
  "language_info": {
   "codemirror_mode": {
    "name": "ipython",
    "version": 3
   },
   "file_extension": ".py",
   "mimetype": "text/x-python",
   "name": "python",
   "nbconvert_exporter": "python",
   "pygments_lexer": "ipython3",
   "version": "3.8.6"
  }
 },
 "nbformat": 4,
 "nbformat_minor": 5
}
