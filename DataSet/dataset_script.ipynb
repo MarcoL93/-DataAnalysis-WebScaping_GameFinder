{
 "cells": [
  {
   "cell_type": "code",
   "execution_count": 1,
   "id": "previous-converter",
   "metadata": {},
   "outputs": [],
   "source": [
    "import pandas as pd\n",
    "import numpy as np"
   ]
  },
  {
   "cell_type": "markdown",
   "id": "economic-military",
   "metadata": {},
   "source": [
    "## 1. Creating a DataFrame"
   ]
  },
  {
   "cell_type": "code",
   "execution_count": 2,
   "id": "naughty-trinidad",
   "metadata": {},
   "outputs": [],
   "source": [
    "#Create a list with all of 49 csv files\n",
    "x=np.arange(0,49)\n",
    "files_list = []\n",
    "for i in x:\n",
    "    i = i.astype(str)\n",
    "    file_name = 'metacritic'+i+'.csv'\n",
    "    files_list.append(file_name)"
   ]
  },
  {
   "cell_type": "code",
   "execution_count": 3,
   "id": "extraordinary-capital",
   "metadata": {},
   "outputs": [],
   "source": [
    "#The dataset is created by merging all of 49 csv files\n",
    "df = pd.DataFrame()\n",
    "for file_name in files_list:\n",
    "    df1 = pd.read_csv(file_name)\n",
    "    df = df.append(df1, ignore_index=True)"
   ]
  },
  {
   "cell_type": "markdown",
   "id": "unexpected-associate",
   "metadata": {},
   "source": [
    "## 2. Data Cleaning"
   ]
  },
  {
   "cell_type": "markdown",
   "id": "married-growing",
   "metadata": {},
   "source": [
    "First, we select the features we need, this means dropping the other columns (like web-scraper-order or web-scraper-start-url). <br>\n",
    "Next, we look for errors in the DataFrame, such as duplicates and NaN. We'll clean up the Genre column by removing \"Genre(s)\" and rework the Num_Player column, to make it more readable and filter-friendly. <br>\n",
    "Finally, we'll create a personal rating system, which will be a weighted average of Metascore and User Score. We are going to use a weighted average instead of a regular one, because we want to avoid having a rating system that penalizes titles that have a particular low User Score (the case of titles that experienced Review Bombing on Metacritic). Rating will be an average that weights the Metascore for '0.7' and the User Score for '0.3'."
   ]
  },
  {
   "cell_type": "code",
   "execution_count": 4,
   "id": "interim-advertising",
   "metadata": {},
   "outputs": [
    {
     "data": {
      "text/plain": [
       "web-scraper-order         object\n",
       "web-scraper-start-url     object\n",
       "Game                      object\n",
       "Game-href                 object\n",
       "Title                     object\n",
       "Release Date              object\n",
       "Metascore                float64\n",
       "User Score                object\n",
       "Genre                     object\n",
       "Num_Players               object\n",
       "dtype: object"
      ]
     },
     "execution_count": 4,
     "metadata": {},
     "output_type": "execute_result"
    }
   ],
   "source": [
    "df.dtypes"
   ]
  },
  {
   "cell_type": "code",
   "execution_count": 5,
   "id": "enormous-reasoning",
   "metadata": {},
   "outputs": [],
   "source": [
    "#Dropping useless columns\n",
    "drop_column = ['web-scraper-order', 'web-scraper-start-url', 'Game']\n",
    "df.drop(drop_column, axis=1, inplace=True)\n",
    "#Rename url column\n",
    "df.rename(columns={'Game-href':'Game url'}, inplace=True)"
   ]
  },
  {
   "cell_type": "code",
   "execution_count": 6,
   "id": "unavailable-singer",
   "metadata": {},
   "outputs": [
    {
     "data": {
      "text/plain": [
       "count                         4800\n",
       "unique                        4799\n",
       "top       Star Wars Battlefront II\n",
       "freq                             2\n",
       "Name: Title, dtype: object"
      ]
     },
     "execution_count": 6,
     "metadata": {},
     "output_type": "execute_result"
    }
   ],
   "source": [
    "#Looking for duplicates\n",
    "df['Title'].describe()"
   ]
  },
  {
   "cell_type": "code",
   "execution_count": 7,
   "id": "literary-plate",
   "metadata": {},
   "outputs": [],
   "source": [
    "#We have two entries related to Star Wars Battlefront II"
   ]
  },
  {
   "cell_type": "code",
   "execution_count": 8,
   "id": "rental-database",
   "metadata": {},
   "outputs": [],
   "source": [
    "#Duplicate removed\n",
    "df.drop_duplicates(subset='Title', inplace=True)"
   ]
  },
  {
   "cell_type": "code",
   "execution_count": 9,
   "id": "continued-paraguay",
   "metadata": {},
   "outputs": [],
   "source": [
    "#Removing 'Genres(s):'"
   ]
  },
  {
   "cell_type": "code",
   "execution_count": 10,
   "id": "authentic-cattle",
   "metadata": {},
   "outputs": [],
   "source": [
    "df['Genre'] = df['Genre'].str.replace('Genre(s): ', '', regex=False)\n",
    "df['Genre'] = df['Genre'].str.replace('                                           ', ' ', regex=True)"
   ]
  },
  {
   "cell_type": "code",
   "execution_count": 11,
   "id": "ethical-given",
   "metadata": {},
   "outputs": [],
   "source": [
    "#Fixing Num_Players"
   ]
  },
  {
   "cell_type": "code",
   "execution_count": 12,
   "id": "obvious-dutch",
   "metadata": {},
   "outputs": [],
   "source": [
    "df['Num_Players'] = df['Num_Players'].str.replace('No Online Multiplayer', 'Singleplayer', regex=False)\n",
    "df['Num_Players'] = df['Num_Players'].str.replace('1 Player', 'Singleplayer', regex=False)\n",
    "df['Num_Players'] = df['Num_Players'].str.replace('Online Multiplayer', 'Multiplayer', regex=False)\n",
    "df['Num_Players'] = df['Num_Players'].str.replace('Massively Multiplayer', 'Multiplayer', regex=False)\n",
    "df['Num_Players'] = df['Num_Players'].str.replace('Up to more than 64', 'Multiplayer', regex=False)\n",
    "df['Num_Players'] = df['Num_Players'].str.replace('Up to 64', 'Multiplayer', regex=False)\n",
    "df['Num_Players'] = df['Num_Players'].str.replace('Up to 32', 'Multiplayer', regex=False)\n",
    "df['Num_Players'] = df['Num_Players'].str.replace('Up to 24', 'Multiplayer', regex=False)\n",
    "df['Num_Players'] = df['Num_Players'].str.replace('Up to 22', 'Multiplayer', regex=False)\n",
    "df['Num_Players'] = df['Num_Players'].str.replace('Up to 20', 'Multiplayer', regex=False)\n",
    "df['Num_Players'] = df['Num_Players'].str.replace('Up to 18', 'Multiplayer', regex=False)\n",
    "df['Num_Players'] = df['Num_Players'].str.replace('Up to 16', 'Multiplayer', regex=False)\n",
    "df['Num_Players'] = df['Num_Players'].str.replace('Up to 15', 'Multiplayer', regex=False)\n",
    "df['Num_Players'] = df['Num_Players'].str.replace('Up to 12', 'Multiplayer', regex=False)\n",
    "df['Num_Players'] = df['Num_Players'].str.replace('Up to 10', 'Multiplayer', regex=False)\n",
    "df['Num_Players'] = df['Num_Players'].str.replace('Up to 18', 'Multiplayer', regex=False)\n",
    "df['Num_Players'] = df['Num_Players'].str.replace('Up to 8', 'Multiplayer', regex=False)\n",
    "df['Num_Players'] = df['Num_Players'].str.replace('Up to 6', 'Multiplayer', regex=False)\n",
    "df['Num_Players'] = df['Num_Players'].str.replace('Up to 3', 'Multiplayer', regex=False)\n",
    "df['Num_Players'] = df['Num_Players'].str.replace('64 Online', 'Multiplayer', regex=False)\n",
    "df['Num_Players'] = df['Num_Players'].str.replace('1-32', 'Multiplayer', regex=False)\n",
    "df['Num_Players'] = df['Num_Players'].str.replace('1-8', 'Multiplayer', regex=False)\n",
    "df['Num_Players'] = df['Num_Players'].str.replace('1-16', 'Multiplayer', regex=False)\n",
    "df['Num_Players'] = df['Num_Players'].str.replace('1-2', 'Multiplayer', regex=False)\n",
    "df['Num_Players'] = df['Num_Players'].str.replace('2 Online', 'Multiplayer', regex=False)\n",
    "df['Num_Players'] = df['Num_Players'].str.replace('1-4', 'Multiplayer', regex=False)\n",
    "df['Num_Players'] = df['Num_Players'].str.replace('8 Online', 'Multiplayer', regex=False)\n",
    "df['Num_Players'] = df['Num_Players'].str.replace('64+', 'Multiplayer', regex=False)\n",
    "df['Num_Players'] = df['Num_Players'].str.replace('1-12', 'Multiplayer', regex=False)\n",
    "df['Num_Players'] = df['Num_Players'].str.replace('1-6', 'Multiplayer', regex=False)\n",
    "df['Num_Players'] = df['Num_Players'].str.replace('16 Online', 'Multiplayer', regex=False)\n",
    "df['Num_Players'] = df['Num_Players'].str.replace('24 Online', 'Multiplayer', regex=False)\n",
    "df['Num_Players'] = df['Num_Players'].str.replace('10 Online', 'Multiplayer', regex=False)\n",
    "df['Num_Players'] = df['Num_Players'].str.replace('4 Online', 'Multiplayer', regex=False)\n",
    "df['Num_Players'] = df['Num_Players'].str.replace('32 Online', 'Multiplayer', regex=False)\n",
    "df['Num_Players'] = df['Num_Players'].str.replace('64  Online', 'Multiplayer', regex=False)\n",
    "df['Num_Players'] = df['Num_Players'].str.replace('2 Online', 'Multiplayer', regex=False)\n",
    "df['Num_Players'] = df['Num_Players'].str.replace('8  Online', 'Multiplayer', regex=False)\n",
    "df['Num_Players'] = df['Num_Players'].str.replace('16  Online', 'Multiplayer', regex=False)\n",
    "df['Num_Players'] = df['Num_Players'].str.replace('24 Online', 'Multiplayer', regex=False)\n",
    "df['Num_Players'] = df['Num_Players'].str.replace('2', 'Multiplayer', regex=False)\n",
    "df['Num_Players'] = df['Num_Players'].str.replace('12 Online', 'Multiplayer', regex=False)\n",
    "df['Num_Players'] = df['Num_Players'].str.replace('Multiplayer4', 'Multiplayer', regex=False)\n",
    "df['Num_Players'] = df['Num_Players'].str.replace('Multiplayer0', 'Multiplayer', regex=False)\n",
    "df['Num_Players'] = df['Num_Players'].str.replace('10  Online', 'Multiplayer', regex=False)\n",
    "df['Num_Players'] = df['Num_Players'].str.replace('4  Online', 'Multiplayer', regex=False)\n",
    "df['Num_Players'] = df['Num_Players'].str.replace('3Multiplayer', 'Multiplayer', regex=False)\n",
    "df['Num_Players'] = df['Num_Players'].str.replace('6  Online', 'Multiplayer', regex=False)\n",
    "df['Num_Players'] = df['Num_Players'].str.replace('1Multiplayer', 'Multiplayer', regex=False)\n",
    "df['Num_Players'] = df['Num_Players'].str.replace('44  Online', 'Multiplayer', regex=False)\n",
    "df['Num_Players'] = df['Num_Players'].str.replace('1-10', 'Multiplayer', regex=False)\n",
    "df['Num_Players'] = df['Num_Players'].str.replace('1-3', 'Multiplayer', regex=False)\n",
    "df['Num_Players'] = df['Num_Players'].str.replace('5  Online', 'Multiplayer', regex=False)\n",
    "df['Num_Players'] = df['Num_Players'].str.replace('Up to 5', 'Multiplayer', regex=False)\n",
    "df['Num_Players'] = df['Num_Players'].str.replace('3  Online', 'Multiplayer', regex=False)\n",
    "df['Num_Players'] = df['Num_Players'].str.replace('Up to 9', 'Multiplayer', regex=False)\n",
    "df['Num_Players'] = df['Num_Players'].str.replace('1-5', 'Multiplayer', regex=False)\n",
    "df['Num_Players'] = df['Num_Players'].str.replace('# of players:', ' ', regex=False)\n",
    "df['Num_Players'] = df['Num_Players'].str.replace('Singleplayer\\n', '', regex=False)\n",
    "df['Num_Players'] = df['Num_Players'].str.replace('             ', '', regex=False)\n",
    "df['Num_Players'] = df['Num_Players'].str.replace('NaN', 'Singleplayer', regex=False)\n",
    "df['Num_Players'] = df['Num_Players'].str.replace('Up to 4', 'Multiplayer', regex=False)\n",
    "df['Num_Players'] = df['Num_Players'].str.replace('Multiplayer  Online', 'Multiplayer', regex=False)\n",
    "df['Num_Players'] = df['Num_Players'].str.replace('4Multiplayer', 'Multiplayer', regex=False)\n",
    "df['Num_Players'] = df['Num_Players'].str.replace('Up to 40', 'Multiplayer', regex=False)\n",
    "df['Num_Players'] = df['Num_Players'].str.replace('Multiplayer0', 'Multiplayer', regex=False)\n",
    "df['Num_Players'] = df['Num_Players'].str.replace(' ', 'Singleplayer', regex=False)\n",
    "df['Num_Players'] = df['Num_Players'].str.replace(' \\n            ', 'Singleplayer', regex=False)\n",
    "df['Num_Players'] = df['Num_Players'].str.replace('Singleplayer\\nSingleplayerSingleplayerSingleplayerSingleplayerSingleplayerSingleplayerSingleplayerSingleplayerSingleplayerSingleplayerSingleplayerSingleplayerSingleplayer', 'Singleplayer', regex=False)\n",
    "df['Num_Players'] = df['Num_Players'].str.replace('Singleplayer\\nSingleplayerSingleplayerSingleplayerSingleplayerSingleplayerSingleplayerSingleplayerSingleplayerSingleplayerSingleplayerSingleplayerSingleplayerMultiplayer', 'Multiplayer', regex=False)"
   ]
  },
  {
   "cell_type": "code",
   "execution_count": 13,
   "id": "above-mercy",
   "metadata": {},
   "outputs": [
    {
     "data": {
      "text/plain": [
       "array(['Singleplayer', 'Multiplayer', nan], dtype=object)"
      ]
     },
     "execution_count": 13,
     "metadata": {},
     "output_type": "execute_result"
    }
   ],
   "source": [
    "df['Num_Players'].unique()"
   ]
  },
  {
   "cell_type": "code",
   "execution_count": 14,
   "id": "recovered-marks",
   "metadata": {},
   "outputs": [],
   "source": [
    "#NaN Values most certantly stand for games without multiplayer modes\n",
    "df['Num_Players'].fillna('Singleplayer', inplace=True)"
   ]
  },
  {
   "cell_type": "code",
   "execution_count": 15,
   "id": "fatal-birthday",
   "metadata": {},
   "outputs": [],
   "source": [
    "#Rename into 'Game Mode'"
   ]
  },
  {
   "cell_type": "code",
   "execution_count": 16,
   "id": "clean-forge",
   "metadata": {},
   "outputs": [],
   "source": [
    "df.rename(columns={'Num_Players':'Game Mode'}, inplace=True)"
   ]
  },
  {
   "cell_type": "code",
   "execution_count": 17,
   "id": "knowing-territory",
   "metadata": {},
   "outputs": [],
   "source": [
    "#In order to calculate the average in need both Metascore and User Score to be float type, \n",
    "#Metascore values must be divided by 10"
   ]
  },
  {
   "cell_type": "code",
   "execution_count": 18,
   "id": "literary-database",
   "metadata": {},
   "outputs": [],
   "source": [
    "df['Metascore'] = df['Metascore']/10"
   ]
  },
  {
   "cell_type": "code",
   "execution_count": 19,
   "id": "anonymous-acrobat",
   "metadata": {},
   "outputs": [],
   "source": [
    "#UserScore column contain two strings: a tbd and a NaN value (so two games don't have an user score)"
   ]
  },
  {
   "cell_type": "code",
   "execution_count": 20,
   "id": "interstate-advancement",
   "metadata": {},
   "outputs": [
    {
     "data": {
      "text/plain": [
       "array([8.4, 7.8, 8.7, 6.2, 6.6, 9.1, 8.9, 8.6, 7.3, 7.4, 6.5, 7.1, 8.8,\n",
       "       7.9, 8.2, 8.1, 5.8, 3.8, 6.9, 8.5, 9.0, 3.3, 7.2, 7.6, 5.0, 8.0,\n",
       "       9.2, 8.3, 7.7, 9.3, 9.4, 6.7, '9.2', '7.9', '7.6', '7.3', '7.1',\n",
       "       '8.9', '6.0', '7.0', '8.3', '8.1', '8.4', '8.2', '6.7', '8.7',\n",
       "       '8.6', '9.1', '6.3', '8.5', '7.8', '8.0', '8.8', '5.8', '5.5',\n",
       "       '7.7', '9.0', '7.4', 'tbd', '6.5', '7.2', '7.5', 6.0, 6.8, 7.5,\n",
       "       4.1, 7.0, 2.9, 5.2, 5.3, 5.4, 6.3, 4.7, 4.6, 4.8, 5.7, 6.1, 6.4,\n",
       "       4.9, 5.6, 3.2, '4.2', '6.9', '6.1', '6.8', '5.0', '5.9', '5.6',\n",
       "       '3.2', '4.3', 5.5, 4.4, 3.1, '6.6', '3.0', '4.8', '4.6', '3.3',\n",
       "       '4.5', '6.4', '6.2', '5.2', '5.7', '2.5', '5.3', '2.9', '5.4',\n",
       "       '2.8', '2.2', '3.4', '5.1', '3.7', '3.8', '4.9', '4.7', '0.9',\n",
       "       '4.4', '3.9', '1.8', '4.0', '3.1', '4.1', '1.2', 3.7, 5.9, 3.6,\n",
       "       4.2, '2.7', '3.5', '1.0', '2.3', '9.6', '3.6', nan, '2.0', '2.1',\n",
       "       '0.6', '2.4', '1.5', '2.6', '1.3', '1.7', '1.9', 2.1, 2.7, 2.5,\n",
       "       3.4, 2.2, 3.0, 3.5, 2.3, 4.3, 1.5, 1.4, 1.6, 3.9, 1.3, 4.5, 2.4,\n",
       "       1.7, 5.1, 2.0], dtype=object)"
      ]
     },
     "execution_count": 20,
     "metadata": {},
     "output_type": "execute_result"
    }
   ],
   "source": [
    "df['User Score'].unique()"
   ]
  },
  {
   "cell_type": "code",
   "execution_count": 21,
   "id": "prescription-conversation",
   "metadata": {},
   "outputs": [],
   "source": [
    "#The idea is to track down the two games and assing the Metascore value as User Score value"
   ]
  },
  {
   "cell_type": "code",
   "execution_count": 22,
   "id": "bright-kuwait",
   "metadata": {},
   "outputs": [],
   "source": [
    "for index in range(4791):\n",
    "    if df.iloc[index, 4] == 'tbd':\n",
    "        df.iloc[index, 4] = df.iloc[index, 3]"
   ]
  },
  {
   "cell_type": "code",
   "execution_count": 23,
   "id": "global-kernel",
   "metadata": {},
   "outputs": [],
   "source": [
    "#Some game have NaN also in the Metascore column. So we have to drop those titles from the dataframe"
   ]
  },
  {
   "cell_type": "code",
   "execution_count": 24,
   "id": "advanced-berlin",
   "metadata": {},
   "outputs": [],
   "source": [
    "df.dropna(subset=['Metascore','User Score'], inplace=True)"
   ]
  },
  {
   "cell_type": "code",
   "execution_count": 25,
   "id": "exempt-knife",
   "metadata": {},
   "outputs": [],
   "source": [
    "#UserScore converted to float"
   ]
  },
  {
   "cell_type": "code",
   "execution_count": 26,
   "id": "heard-fleece",
   "metadata": {},
   "outputs": [],
   "source": [
    "df['User Score'] = df['User Score'].astype('float')"
   ]
  },
  {
   "cell_type": "code",
   "execution_count": 27,
   "id": "practical-float",
   "metadata": {},
   "outputs": [],
   "source": [
    "#Rating Column.\n",
    "df['Rating'] = (df['Metascore']*0.7)+(df['User Score']*0.3)"
   ]
  },
  {
   "cell_type": "code",
   "execution_count": 28,
   "id": "certain-drinking",
   "metadata": {},
   "outputs": [],
   "source": [
    "#Fixing Release Date"
   ]
  },
  {
   "cell_type": "code",
   "execution_count": 29,
   "id": "contained-default",
   "metadata": {},
   "outputs": [],
   "source": [
    "df['Release Date'] = pd.to_datetime(df['Release Date'], infer_datetime_format=True)"
   ]
  },
  {
   "cell_type": "code",
   "execution_count": 30,
   "id": "genuine-steal",
   "metadata": {},
   "outputs": [
    {
     "data": {
      "text/html": [
       "<div>\n",
       "<style scoped>\n",
       "    .dataframe tbody tr th:only-of-type {\n",
       "        vertical-align: middle;\n",
       "    }\n",
       "\n",
       "    .dataframe tbody tr th {\n",
       "        vertical-align: top;\n",
       "    }\n",
       "\n",
       "    .dataframe thead th {\n",
       "        text-align: right;\n",
       "    }\n",
       "</style>\n",
       "<table border=\"1\" class=\"dataframe\">\n",
       "  <thead>\n",
       "    <tr style=\"text-align: right;\">\n",
       "      <th></th>\n",
       "      <th>Game url</th>\n",
       "      <th>Title</th>\n",
       "      <th>Release Date</th>\n",
       "      <th>Metascore</th>\n",
       "      <th>User Score</th>\n",
       "      <th>Genre</th>\n",
       "      <th>Game Mode</th>\n",
       "      <th>Rating</th>\n",
       "    </tr>\n",
       "  </thead>\n",
       "  <tbody>\n",
       "    <tr>\n",
       "      <th>645</th>\n",
       "      <td>https://www.metacritic.com/game/pc/pathfinder-...</td>\n",
       "      <td>Pathfinder: Wrath of the Righteous</td>\n",
       "      <td>2021-09-02</td>\n",
       "      <td>8.4</td>\n",
       "      <td>7.5</td>\n",
       "      <td>Role-Playing,  Action RPG</td>\n",
       "      <td>Singleplayer</td>\n",
       "      <td>8.13</td>\n",
       "    </tr>\n",
       "    <tr>\n",
       "      <th>2540</th>\n",
       "      <td>https://www.metacritic.com/game/pc/lake</td>\n",
       "      <td>Lake</td>\n",
       "      <td>2021-09-01</td>\n",
       "      <td>7.3</td>\n",
       "      <td>7.3</td>\n",
       "      <td>Adventure,  General</td>\n",
       "      <td>Singleplayer</td>\n",
       "      <td>7.30</td>\n",
       "    </tr>\n",
       "    <tr>\n",
       "      <th>1889</th>\n",
       "      <td>https://www.metacritic.com/game/pc/the-big-con</td>\n",
       "      <td>The Big Con</td>\n",
       "      <td>2021-08-31</td>\n",
       "      <td>7.6</td>\n",
       "      <td>7.6</td>\n",
       "      <td>Adventure,  General</td>\n",
       "      <td>Singleplayer</td>\n",
       "      <td>7.60</td>\n",
       "    </tr>\n",
       "    <tr>\n",
       "      <th>1642</th>\n",
       "      <td>https://www.metacritic.com/game/pc/tormented-s...</td>\n",
       "      <td>Tormented Souls</td>\n",
       "      <td>2021-08-27</td>\n",
       "      <td>7.8</td>\n",
       "      <td>6.9</td>\n",
       "      <td>Action Adventure,  Survival</td>\n",
       "      <td>Singleplayer</td>\n",
       "      <td>7.53</td>\n",
       "    </tr>\n",
       "    <tr>\n",
       "      <th>134</th>\n",
       "      <td>https://www.metacritic.com/game/pc/psychonauts-2</td>\n",
       "      <td>Psychonauts 2</td>\n",
       "      <td>2021-08-25</td>\n",
       "      <td>8.9</td>\n",
       "      <td>5.8</td>\n",
       "      <td>Action,  Platformer,  3D,  Beat-'Em-Up,  Actio...</td>\n",
       "      <td>Singleplayer</td>\n",
       "      <td>7.97</td>\n",
       "    </tr>\n",
       "    <tr>\n",
       "      <th>...</th>\n",
       "      <td>...</td>\n",
       "      <td>...</td>\n",
       "      <td>...</td>\n",
       "      <td>...</td>\n",
       "      <td>...</td>\n",
       "      <td>...</td>\n",
       "      <td>...</td>\n",
       "      <td>...</td>\n",
       "    </tr>\n",
       "    <tr>\n",
       "      <th>23</th>\n",
       "      <td>https://www.metacritic.com/game/pc/quake</td>\n",
       "      <td>Quake</td>\n",
       "      <td>1996-06-22</td>\n",
       "      <td>9.4</td>\n",
       "      <td>8.8</td>\n",
       "      <td>Action,  Shooter,  Shooter,  First-Person,  Sc...</td>\n",
       "      <td>Multiplayer</td>\n",
       "      <td>9.22</td>\n",
       "    </tr>\n",
       "    <tr>\n",
       "      <th>95</th>\n",
       "      <td>https://www.metacritic.com/game/pc/sid-meiers-...</td>\n",
       "      <td>Sid Meier's Civilization II</td>\n",
       "      <td>1996-02-29</td>\n",
       "      <td>9.4</td>\n",
       "      <td>8.8</td>\n",
       "      <td>Strategy,  Turn-Based,  Historic,  General,  H...</td>\n",
       "      <td>Singleplayer</td>\n",
       "      <td>9.22</td>\n",
       "    </tr>\n",
       "    <tr>\n",
       "      <th>2196</th>\n",
       "      <td>https://www.metacritic.com/game/pc/bad-mojo</td>\n",
       "      <td>Bad Mojo</td>\n",
       "      <td>1996-02-29</td>\n",
       "      <td>7.4</td>\n",
       "      <td>6.9</td>\n",
       "      <td>Action Adventure,  Adventure,  General,  Horro...</td>\n",
       "      <td>Singleplayer</td>\n",
       "      <td>7.25</td>\n",
       "    </tr>\n",
       "    <tr>\n",
       "      <th>151</th>\n",
       "      <td>https://www.metacritic.com/game/pc/duke-nukem-3d</td>\n",
       "      <td>Duke Nukem 3D</td>\n",
       "      <td>1996-01-29</td>\n",
       "      <td>8.9</td>\n",
       "      <td>8.7</td>\n",
       "      <td>Action,  Shooter,  Shooter,  First-Person,  Sc...</td>\n",
       "      <td>Multiplayer</td>\n",
       "      <td>8.84</td>\n",
       "    </tr>\n",
       "    <tr>\n",
       "      <th>343</th>\n",
       "      <td>https://www.metacritic.com/game/pc/full-throttle</td>\n",
       "      <td>Full Throttle</td>\n",
       "      <td>1995-04-30</td>\n",
       "      <td>8.6</td>\n",
       "      <td>8.6</td>\n",
       "      <td>Adventure,  General</td>\n",
       "      <td>Singleplayer</td>\n",
       "      <td>8.60</td>\n",
       "    </tr>\n",
       "  </tbody>\n",
       "</table>\n",
       "<p>4791 rows × 8 columns</p>\n",
       "</div>"
      ],
      "text/plain": [
       "                                               Game url  \\\n",
       "645   https://www.metacritic.com/game/pc/pathfinder-...   \n",
       "2540            https://www.metacritic.com/game/pc/lake   \n",
       "1889     https://www.metacritic.com/game/pc/the-big-con   \n",
       "1642  https://www.metacritic.com/game/pc/tormented-s...   \n",
       "134    https://www.metacritic.com/game/pc/psychonauts-2   \n",
       "...                                                 ...   \n",
       "23             https://www.metacritic.com/game/pc/quake   \n",
       "95    https://www.metacritic.com/game/pc/sid-meiers-...   \n",
       "2196        https://www.metacritic.com/game/pc/bad-mojo   \n",
       "151    https://www.metacritic.com/game/pc/duke-nukem-3d   \n",
       "343    https://www.metacritic.com/game/pc/full-throttle   \n",
       "\n",
       "                                   Title Release Date  Metascore  User Score  \\\n",
       "645   Pathfinder: Wrath of the Righteous   2021-09-02        8.4         7.5   \n",
       "2540                                Lake   2021-09-01        7.3         7.3   \n",
       "1889                         The Big Con   2021-08-31        7.6         7.6   \n",
       "1642                     Tormented Souls   2021-08-27        7.8         6.9   \n",
       "134                        Psychonauts 2   2021-08-25        8.9         5.8   \n",
       "...                                  ...          ...        ...         ...   \n",
       "23                                 Quake   1996-06-22        9.4         8.8   \n",
       "95           Sid Meier's Civilization II   1996-02-29        9.4         8.8   \n",
       "2196                            Bad Mojo   1996-02-29        7.4         6.9   \n",
       "151                        Duke Nukem 3D   1996-01-29        8.9         8.7   \n",
       "343                        Full Throttle   1995-04-30        8.6         8.6   \n",
       "\n",
       "                                                  Genre     Game Mode  Rating  \n",
       "645                           Role-Playing,  Action RPG  Singleplayer    8.13  \n",
       "2540                                Adventure,  General  Singleplayer    7.30  \n",
       "1889                                Adventure,  General  Singleplayer    7.60  \n",
       "1642                        Action Adventure,  Survival  Singleplayer    7.53  \n",
       "134   Action,  Platformer,  3D,  Beat-'Em-Up,  Actio...  Singleplayer    7.97  \n",
       "...                                                 ...           ...     ...  \n",
       "23    Action,  Shooter,  Shooter,  First-Person,  Sc...   Multiplayer    9.22  \n",
       "95    Strategy,  Turn-Based,  Historic,  General,  H...  Singleplayer    9.22  \n",
       "2196  Action Adventure,  Adventure,  General,  Horro...  Singleplayer    7.25  \n",
       "151   Action,  Shooter,  Shooter,  First-Person,  Sc...   Multiplayer    8.84  \n",
       "343                                 Adventure,  General  Singleplayer    8.60  \n",
       "\n",
       "[4791 rows x 8 columns]"
      ]
     },
     "execution_count": 30,
     "metadata": {},
     "output_type": "execute_result"
    }
   ],
   "source": [
    "df.sort_values(by=['Release Date'], ascending=False)"
   ]
  },
  {
   "cell_type": "code",
   "execution_count": 31,
   "id": "owned-insider",
   "metadata": {},
   "outputs": [],
   "source": [
    "#DATASET IS READY"
   ]
  },
  {
   "cell_type": "code",
   "execution_count": 32,
   "id": "concrete-dressing",
   "metadata": {},
   "outputs": [],
   "source": [
    "col = ['Title', 'Release Date', 'Rating', 'Genre', 'Game Mode', 'Game url']\n",
    "game_df = df[col]"
   ]
  },
  {
   "cell_type": "code",
   "execution_count": 33,
   "id": "technological-laundry",
   "metadata": {},
   "outputs": [
    {
     "name": "stderr",
     "output_type": "stream",
     "text": [
      "<ipython-input-33-b9a790b8643a>:1: SettingWithCopyWarning: \n",
      "A value is trying to be set on a copy of a slice from a DataFrame\n",
      "\n",
      "See the caveats in the documentation: https://pandas.pydata.org/pandas-docs/stable/user_guide/indexing.html#returning-a-view-versus-a-copy\n",
      "  game_df.sort_values(by=['Rating'], ascending=False, inplace=True)\n"
     ]
    }
   ],
   "source": [
    "game_df.sort_values(by=['Rating'], ascending=False, inplace=True)\n",
    "game_df.reset_index(drop=True, inplace=True)"
   ]
  },
  {
   "cell_type": "code",
   "execution_count": 34,
   "id": "impossible-costs",
   "metadata": {},
   "outputs": [],
   "source": [
    "#Creating a .csv file"
   ]
  },
  {
   "cell_type": "code",
   "execution_count": 35,
   "id": "functioning-brooklyn",
   "metadata": {},
   "outputs": [],
   "source": [
    "game_df.to_csv('Metacritic_PC_AllTime.csv', index=False)"
   ]
  }
 ],
 "metadata": {
  "kernelspec": {
   "display_name": "Python 3",
   "language": "python",
   "name": "python3"
  },
  "language_info": {
   "codemirror_mode": {
    "name": "ipython",
    "version": 3
   },
   "file_extension": ".py",
   "mimetype": "text/x-python",
   "name": "python",
   "nbconvert_exporter": "python",
   "pygments_lexer": "ipython3",
   "version": "3.8.6"
  }
 },
 "nbformat": 4,
 "nbformat_minor": 5
}
